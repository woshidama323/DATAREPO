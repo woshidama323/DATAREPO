{
  "nbformat": 4,
  "nbformat_minor": 0,
  "metadata": {
    "colab": {
      "name": "juliaforcolaboncolab.ipynb",
      "private_outputs": true,
      "provenance": [],
      "collapsed_sections": [],
      "include_colab_link": true
    },
    "kernelspec": {
      "name": "julia-1.6",
      "display_name": "Julia 1.6.0"
    }
  },
  "cells": [
    {
      "cell_type": "markdown",
      "metadata": {
        "id": "view-in-github",
        "colab_type": "text"
      },
      "source": [
        "<a href=\"https://colab.research.google.com/github/woshidama323/DATAREPO/blob/master/juliaforcolaboncolab.ipynb\" target=\"_parent\"><img src=\"https://colab.research.google.com/assets/colab-badge.svg\" alt=\"Open In Colab\"/></a>"
      ]
    },
    {
      "cell_type": "code",
      "metadata": {
        "id": "ORq07TJTxP91"
      },
      "source": [
        "### 首先利用python3 安装julia环境 \n",
        "## 安装最新的julia的程序\n",
        "!curl -sSL https://julialang-s3.julialang.org/bin/linux/x64/1.6/julia-1.6.0-linux-x86_64.tar.gz -o julia.tar.gz\n",
        "\n",
        "!tar -xzf julia.tar.gz -C /usr --strip-components 1\n",
        "!julia --version\n",
        "## 安装IJulia来安装jupyter\n",
        "!julia -e 'using Pkg; pkg\"add IJulia;\"'\n"
      ],
      "execution_count": null,
      "outputs": []
    },
    {
      "cell_type": "code",
      "metadata": {
        "id": "CFYO74LUyD1D"
      },
      "source": [
        "### 创建ssh 连接到虚拟机 要用python3环境\n",
        "## 启动ssh登录方式\n",
        "# # Install colab_ssh\n",
        "!pip install colab_ssh --upgrade\n",
        "\n",
        "from colab_ssh import launch_ssh, init_git\n",
        "launch_ssh(\"1bSjkXryWB907qK8Jzt6ZkvgpdI_3FYxy4R51a9u1ws9ZWQXm\",\"hello123\")\n",
        "\n",
        "# # Optional: if you want to clone a github repository\n",
        "# ## 同步自己的github repo\n",
        "# init_git(\"https://github.com/woshidama323/JuliaBoxSync.git\")\n",
        "\n",
        "## 新版本\n",
        "# Install colab_ssh on google colab\n",
        "# !pip install colab_ssh --upgrade\n",
        "\n",
        "# from colab_ssh import launch_ssh_cloudflared, init_git_cloudflared\n",
        "# launch_ssh_cloudflared(password=\"hellotest\")\n",
        "\n",
        "### 这种方式目前不成功，原因是卡在cloudflare中 这里不太会用 有空再研究吧"
      ],
      "execution_count": null,
      "outputs": []
    },
    {
      "cell_type": "code",
      "metadata": {
        "id": "eXF9FiSoGxvm"
      },
      "source": [
        "### 切到julia1.5环境，统一安装julia库\n",
        "using Pkg\n",
        "Pkg.add(\"Plots\")\n",
        "Pkg.add(\"CSV\")\n",
        "Pkg.add(\"DataFrames\")\n",
        "Pkg.add(\"Cairo\")\n",
        "Pkg.add(\"Fontconfig\")\n",
        "Pkg.add(\"Plotly\")\n",
        "Pkg.add(\"Gadfly\")"
      ],
      "execution_count": null,
      "outputs": []
    },
    {
      "cell_type": "code",
      "metadata": {
        "id": "5omJKnkLMjMv"
      },
      "source": [
        ";cd /content/JuliaBoxSync"
      ],
      "execution_count": null,
      "outputs": []
    },
    {
      "cell_type": "code",
      "metadata": {
        "id": "9WZRcDeVGqPa"
      },
      "source": [
        "from google.colab import drive\n",
        "drive.mount('/content/drive')"
      ],
      "execution_count": null,
      "outputs": []
    },
    {
      "cell_type": "code",
      "metadata": {
        "id": "8pdYfbxjd-N2"
      },
      "source": [
        "using CSV,DataFrames,Gadfly#Plots\n",
        "\n",
        "basefee = CSV.read(\"/content/JuliaBoxSync/basefee.0224\",DataFrame,header=false)\n",
        "\n",
        "feemax = maximum(basefee[!, :Column2])\n",
        "feemin = minimum(basefee[!, :Column2])\n",
        "\n",
        "## 写到文件中的方法\n",
        "#plot(1:length(basefee[!, :Column1]),basefee[!, :Column2],fmt=:svg)\n",
        "#savefig(\"basefee0224.svg\")\n",
        "\n",
        "## draw 一个可交互式的plot图\n",
        "first(basefee,100);\n",
        "##注意这里可能之前plots 包已经进入了，这里直接调用plot的话是用的Plots中的plot 而不是Gadfly中的plot\n",
        "#p = Gadfly.plot(basefee, x=1:length(basefee.Column1), y=:Column2, hover=data,Geom.line)\n",
        " p = Gadfly.plot(basefee, x=1:length(basefee.Column1), y=:Column2, hover=data, Geom.point, Geom.smooth(method=:loess,smoothing=0.01))\n",
        " \n",
        "  #p = Gadfly.plot(basefee, x=1:length(basefee.Column1), y=:Column2, hover=data,Geom.subplot_grid(Geom.bar))\n",
        "#img = SVG(\"iris_plot.svg\", 8cm, 4cm)\n",
        "#draw(img, p)\n",
        "\n",
        "##画一个可以交互式的图\n",
        "##但是这里的图怎么显示在jupyter中\n",
        "draw(SVGJS(\"foo.svg\", 50cm, 20cm), p)\n"
      ],
      "execution_count": null,
      "outputs": []
    },
    {
      "cell_type": "code",
      "metadata": {
        "id": "w0seb1AY2wkl"
      },
      "source": [
        "Pkg.add(\"Gadfly\")\n",
        "Pkg.add(\"RDatasets\")\n",
        "using Gadfly, RDatasets\n",
        "@show iris = dataset(\"datasets\", \"iris\")\n",
        "\n",
        "p = Gadfly.plot(iris, x=:SepalLength, y=:SepalWidth, Geom.point)\n",
        "\n"
      ],
      "execution_count": null,
      "outputs": []
    },
    {
      "cell_type": "code",
      "metadata": {
        "id": "aUGPfTcgSfVj"
      },
      "source": [
        "using Plots\n",
        "plotly()\n",
        "data = 1:5\n",
        "plt = Plots.plot(data; hover=data )\n",
        "display(\"text/html\", plt)"
      ],
      "execution_count": null,
      "outputs": []
    },
    {
      "cell_type": "code",
      "metadata": {
        "id": "cV7b5Gxcq5Bo"
      },
      "source": [
        ";git status"
      ],
      "execution_count": null,
      "outputs": []
    },
    {
      "cell_type": "code",
      "metadata": {
        "id": "KkTY7BRqrxZl"
      },
      "source": [
        ";git add ."
      ],
      "execution_count": null,
      "outputs": []
    },
    {
      "cell_type": "code",
      "metadata": {
        "id": "SCmmfbYSQ6jN"
      },
      "source": [
        ";git commit -m \"update the code\""
      ],
      "execution_count": null,
      "outputs": []
    },
    {
      "cell_type": "code",
      "metadata": {
        "id": "KWVDhgKMQ9an"
      },
      "source": [
        ";git push"
      ],
      "execution_count": null,
      "outputs": []
    },
    {
      "cell_type": "markdown",
      "metadata": {
        "id": "1Thzvibj00eq"
      },
      "source": [
        "--------------------------------------------------------------------------------PYTHON3 --------------------------------------------------------------------------------"
      ]
    },
    {
      "cell_type": "code",
      "metadata": {
        "id": "z9TUeAJd0bl4"
      },
      "source": [
        "### python环境下的basefee的图\n",
        "## 文件位置/content/JuliaBoxSync/basefee.0224\n",
        "import csv\n",
        "with open(\"/content/JuliaBoxSync/basefee.0224\") as csvfile:\n",
        "  spanreader = csv.reader(csvfile,delimiter = ' ',)\n",
        "  for row in spanreader:\n",
        "    print(', '.join(row))"
      ],
      "execution_count": null,
      "outputs": []
    },
    {
      "cell_type": "code",
      "metadata": {
        "id": "SghlsM3K3cX6"
      },
      "source": [
        "## 直接用python的方法来完成这次数据分析吧\n",
        "## 分析的目的是什么？ 看看当前的数据是否有统计意义，什么样的关系\n",
        "import psycopg3,os\n",
        "import matplotlib.pyplot as plt\n",
        "os.environ['PGHOST'] = 'localhost'\n",
        "\n",
        "# Connect to an existing database\n",
        "with psycopg3.connect(\"dbname=postgres user=postgres port=54322\") as conn:\n",
        "\n",
        "    # Open a cursor to perform database operations\n",
        "    with conn.cursor() as cur:\n",
        "\n",
        "        # Execute a command: this creates a new table\n",
        "        cur.execute(\"\"\"\n",
        "            select * from trade where base = 'BTC' order by tid limit 100\n",
        "            \"\"\")\n",
        "          \n",
        "        fetchall = cur.fetchall()\n",
        "        print(len(fetchall))\n",
        "        for i in fetchall:\n",
        "          print(i)\n",
        "\n",
        "        btcpricelist = [i[6] for i in fetchall]\n",
        "        plt.plot(btcpricelist)\n",
        "        plt.show()\n",
        "\n",
        "        # cur.execute(\"\"\"\n",
        "        #     CREATE TABLE test (\n",
        "        #         id serial PRIMARY KEY,\n",
        "        #         num integer,\n",
        "        #         data text)\n",
        "        #     \"\"\")\n",
        "\n",
        "        # Pass data to fill a query placeholders and let Psycopg perform\n",
        "        # the correct conversion (no SQL injections!)\n",
        "        # cur.execute(\n",
        "        #     \"INSERT INTO test (num, data) VALUES (%s, %s)\",\n",
        "        #     (100, \"abc'def\"))\n",
        "\n",
        "        # # Query the database and obtain data as Python objects.\n",
        "        # cur.execute(\"SELECT * FROM test\")\n",
        "        # cur.fetchone()\n",
        "        # # will return (1, 100, \"abc'def\")\n",
        "\n",
        "        # # You can use `cur.fetchmany()`, `cur.fetchall()` to return a list\n",
        "        # # of several records, or even iterate on the cursor\n",
        "        # for record in cur:\n",
        "        #     print(record)\n",
        "\n",
        "        # # Make the changes to the database persistent\n",
        "        # conn.commit()\n"
      ],
      "execution_count": null,
      "outputs": []
    },
    {
      "cell_type": "markdown",
      "metadata": {
        "id": "KkK1r7fcjDde"
      },
      "source": [
        ""
      ]
    },
    {
      "cell_type": "code",
      "metadata": {
        "id": "2oBNgsqd2Gl8"
      },
      "source": [
        "### 安装依赖包\n",
        "!pip install git+https://github.com/psycopg/psycopg3.git#subdirectory=psycopg3"
      ],
      "execution_count": null,
      "outputs": []
    }
  ]
}